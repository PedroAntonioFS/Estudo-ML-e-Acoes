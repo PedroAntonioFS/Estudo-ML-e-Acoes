{
 "cells": [
  {
   "cell_type": "code",
   "execution_count": 1,
   "id": "1dfd259a",
   "metadata": {},
   "outputs": [],
   "source": [
    "from utils import *\n",
    "from datetime import datetime\n",
    "import pandas as pd\n",
    "import numpy as np"
   ]
  },
  {
   "cell_type": "markdown",
   "id": "4b5946e1",
   "metadata": {},
   "source": [
    "### 1. Setup\n",
    "\n",
    "Leitura da base de dados de Ações e outra de Bdrs"
   ]
  },
  {
   "cell_type": "code",
   "execution_count": 2,
   "id": "baa3341f",
   "metadata": {},
   "outputs": [
    {
     "name": "stderr",
     "output_type": "stream",
     "text": [
      "C:\\Users\\panto\\AppData\\Local\\Temp/ipykernel_1564/4102752140.py:1: FutureWarning: Starting with pandas version 2.0 all arguments of read_excel except for the arguments 'io' and 'sheet_name' will be keyword-only\n",
      "  df_bdrs = pd.read_excel('Datasets/Tickers_Bovespa.xlsx', 'BDRs', 0)\n",
      "C:\\Users\\panto\\AppData\\Local\\Temp/ipykernel_1564/4102752140.py:2: FutureWarning: Starting with pandas version 2.0 all arguments of read_excel except for the arguments 'io' and 'sheet_name' will be keyword-only\n",
      "  df_acoes = pd.read_excel('Datasets/Tickers_Bovespa.xlsx', 'Ações', 0)\n"
     ]
    }
   ],
   "source": [
    "df_bdrs = pd.read_excel('Datasets/Tickers_Bovespa.xlsx', 'BDRs', 0)\n",
    "df_acoes = pd.read_excel('Datasets/Tickers_Bovespa.xlsx', 'Ações', 0)"
   ]
  },
  {
   "cell_type": "code",
   "execution_count": null,
   "id": "5bce11cd",
   "metadata": {},
   "outputs": [],
   "source": [
    "df_bdrs.head()"
   ]
  },
  {
   "cell_type": "code",
   "execution_count": null,
   "id": "29f7d90d",
   "metadata": {},
   "outputs": [],
   "source": [
    "df_acoes.head()"
   ]
  },
  {
   "cell_type": "markdown",
   "id": "16b19c89",
   "metadata": {},
   "source": [
    "### 2. Pré-Processamento 1.1.\n",
    "\n",
    "A base de dados teve de ser rearranjada para formar uma lista de ações (Um Ativo por registro)."
   ]
  },
  {
   "cell_type": "code",
   "execution_count": null,
   "id": "c3aaab27",
   "metadata": {},
   "outputs": [],
   "source": [
    "df_acoes = df_acoes.melt(id_vars=['Empresas'], value_vars=['Ativos_1', 'Ativos_2', 'Ativos_3', 'Ativos_4', 'Ativos_5', 'Ativos_6'], value_name='Ativos').drop('variable', axis=1).dropna().reset_index(drop=True)"
   ]
  },
  {
   "cell_type": "code",
   "execution_count": null,
   "id": "86a69415",
   "metadata": {},
   "outputs": [],
   "source": [
    "df_acoes.head()"
   ]
  },
  {
   "cell_type": "markdown",
   "id": "f808cb35",
   "metadata": {},
   "source": [
    "### 3. Pré-Processamento 1.2.\n",
    "\n",
    "A base de dados de Ações e Bdrs devem ser concatenadas, para isso:\n",
    "\n",
    "1. Uma indicação de origem deve ser criado, a nova coluna tipo pode ter valor 'bdrs' ou 'acoes';\n",
    "2. 'SETOR' e 'PAÍS DE ORIGEM', devem ser descartados;\n",
    "3. A colunas devem coincidir em tipo e nome;\n",
    "4. Então podem ser concatenadas;\n",
    "5. O indíce deve ser resetado."
   ]
  },
  {
   "cell_type": "code",
   "execution_count": null,
   "id": "4c7ee687",
   "metadata": {},
   "outputs": [],
   "source": [
    "df_bdrs['Tipo'] = 'bdrs'\n",
    "df_acoes['Tipo'] = 'acoes'"
   ]
  },
  {
   "cell_type": "code",
   "execution_count": null,
   "id": "87dcaa21",
   "metadata": {},
   "outputs": [],
   "source": [
    "df_bdrs.drop(['SETOR', 'PAÍS DE ORIGEM'], inplace=True, axis=1)"
   ]
  },
  {
   "cell_type": "code",
   "execution_count": null,
   "id": "91b6378f",
   "metadata": {},
   "outputs": [],
   "source": [
    "df_bdrs.rename(columns={'EMPRESA': 'Empresas', 'CÓDIGO': 'Ativos'}, inplace=True)"
   ]
  },
  {
   "cell_type": "code",
   "execution_count": null,
   "id": "4aa3a9de",
   "metadata": {},
   "outputs": [],
   "source": [
    "df_bdrs.head()"
   ]
  },
  {
   "cell_type": "code",
   "execution_count": null,
   "id": "cd14db07",
   "metadata": {},
   "outputs": [],
   "source": [
    "df = pd.concat([df_acoes, df_bdrs]).reset_index(drop=True)"
   ]
  },
  {
   "cell_type": "code",
   "execution_count": null,
   "id": "cfea1385",
   "metadata": {},
   "outputs": [],
   "source": [
    "df.head()"
   ]
  },
  {
   "cell_type": "code",
   "execution_count": null,
   "id": "b39a12ed",
   "metadata": {},
   "outputs": [],
   "source": [
    "df.tail()"
   ]
  },
  {
   "cell_type": "markdown",
   "id": "9199a71b",
   "metadata": {},
   "source": [
    "### 4. Primeira Iteração de coleta de dados do website Status Invest\n",
    "\n",
    "Coleta dados fundamentalistas da lista de ativos de df e armazena em prices_data. Os casos com erros (stock_errors) são mapeados em df, na coluna 'error'."
   ]
  },
  {
   "cell_type": "code",
   "execution_count": null,
   "id": "a61d7bc2",
   "metadata": {},
   "outputs": [],
   "source": [
    "scraper = StatusInvestScraper()"
   ]
  },
  {
   "cell_type": "code",
   "execution_count": null,
   "id": "58deed00",
   "metadata": {},
   "outputs": [],
   "source": [
    "from_date = datetime(2011, 1, 1)\n",
    "to_date = datetime(2022, 6, 1)\n",
    "interval = '1mo'"
   ]
  },
  {
   "cell_type": "code",
   "execution_count": null,
   "id": "e18ec1d0",
   "metadata": {},
   "outputs": [],
   "source": [
    "stock_errors = []\n",
    "fundamental_data = None\n",
    "\n",
    "for idx, data in df.iterrows():\n",
    "    ticker = data['Ativos'].strip()\n",
    "    try:\n",
    "        stock_data = scraper.get_data(data['Tipo'], ticker, from_date, to_date, interval)\n",
    "        stock_data['Ticker'] = data['Ativos']\n",
    "        stock_data['Tipo'] = data['Tipo']\n",
    "        if fundamental_data is None:\n",
    "            fundamental_data = stock_data\n",
    "        else:\n",
    "            fundamental_data = pd.concat([fundamental_data, stock_data])\n",
    "        print(\"log {}/{}: Success\".format(idx,df.shape[0]))\n",
    "    except:\n",
    "        stock_errors.append(idx)\n",
    "        print(\"log {}/{}: Error -> {}\".format(idx,df.shape[0], scraper.url))\n",
    "\n",
    "df['error'] = 0\n",
    "df['error'].iloc[stock_errors] = 1"
   ]
  },
  {
   "cell_type": "code",
   "execution_count": null,
   "id": "8c5f99bd",
   "metadata": {},
   "outputs": [],
   "source": [
    "fundamental_data.head()"
   ]
  },
  {
   "cell_type": "code",
   "execution_count": null,
   "id": "571cda47",
   "metadata": {},
   "outputs": [],
   "source": [
    "df.head()"
   ]
  },
  {
   "cell_type": "markdown",
   "id": "3755c60f",
   "metadata": {},
   "source": [
    "### 5. Segunda Iteração de coleta de dados do website Status Invest\n",
    "\n",
    "Na primeira iteração, notou-se que alguns ativos estão com último caractere 'F' na lista, mas no Status Invest havia ativos semelhantes sem este sufixo. Dessa forma, tentei sem o último caractere."
   ]
  },
  {
   "cell_type": "code",
   "execution_count": null,
   "id": "2a0990c8",
   "metadata": {},
   "outputs": [],
   "source": [
    "stock_errors = []\n",
    "for idx, data in df.iterrows():\n",
    "    if not data['error']:\n",
    "        continue\n",
    "        \n",
    "    ticker = data['Ativos'].strip()\n",
    "    ticker = ticker[:-1]\n",
    "    try:\n",
    "        stock_data = scraper.get_data(data['Tipo'], ticker, from_date, to_date, interval)\n",
    "        stock_data['Ticker'] = ticker\n",
    "        stock_data['Tipo'] = data['Tipo']\n",
    "        fundamental_data = pd.concat([fundamental_data, stock_data])\n",
    "        print(\"log {}/{}: Success\".format(idx,df.shape[0]))\n",
    "    except:\n",
    "        stock_errors.append(idx)\n",
    "        print(\"log {}/{}: Error -> {}\".format(idx,df.shape[0], scraper.url))"
   ]
  },
  {
   "cell_type": "code",
   "execution_count": null,
   "id": "521b62d4",
   "metadata": {},
   "outputs": [],
   "source": [
    "scraper.close()"
   ]
  },
  {
   "cell_type": "code",
   "execution_count": null,
   "id": "3bf022f8",
   "metadata": {},
   "outputs": [],
   "source": [
    "fundamental_data.to_csv('Datasets/dados_fudamentalistas.csv', index=False)"
   ]
  },
  {
   "cell_type": "code",
   "execution_count": null,
   "id": "84d1d9f4",
   "metadata": {},
   "outputs": [],
   "source": [
    "df.to_csv('Datasets/dados_intermediarios.csv', index=False)"
   ]
  },
  {
   "cell_type": "code",
   "execution_count": null,
   "id": "c3678fac",
   "metadata": {},
   "outputs": [],
   "source": []
  }
 ],
 "metadata": {
  "kernelspec": {
   "display_name": "Python 3 (ipykernel)",
   "language": "python",
   "name": "python3"
  },
  "language_info": {
   "codemirror_mode": {
    "name": "ipython",
    "version": 3
   },
   "file_extension": ".py",
   "mimetype": "text/x-python",
   "name": "python",
   "nbconvert_exporter": "python",
   "pygments_lexer": "ipython3",
   "version": "3.9.6"
  }
 },
 "nbformat": 4,
 "nbformat_minor": 5
}
