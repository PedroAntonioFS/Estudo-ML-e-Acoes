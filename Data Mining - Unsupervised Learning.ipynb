{
 "cells": [
  {
   "cell_type": "code",
   "execution_count": 1,
   "id": "2e5f7e29",
   "metadata": {},
   "outputs": [],
   "source": [
    "import numpy as np\n",
    "import pandas as pd\n",
    "from sklearn.cluster import KMeans\n",
    "import matplotlib.pyplot as plt\n",
    "import os"
   ]
  },
  {
   "cell_type": "code",
   "execution_count": 2,
   "id": "798882ca",
   "metadata": {},
   "outputs": [],
   "source": [
    "df_1 = pd.read_csv('Datasets/transformation_result_1_year_SD.csv')\n",
    "df_2 = pd.read_csv('Datasetstransformation_result_2_year_SD.csv')\n",
    "df_3 = pd.read_csv('Datasetstransformation_result_3_year_SD.csv')\n",
    "df_4 = pd.read_csv('Datasetstransformation_result_4_year_SD.csv')\n",
    "df_5 = pd.read_csv('Datasetstransformation_result_5_year_SD.csv')"
   ]
  },
  {
   "cell_type": "code",
   "execution_count": 3,
   "id": "43bef6d6",
   "metadata": {},
   "outputs": [],
   "source": [
    "df_1['Open_dif'] = df_1['Open_1'] - df_1['Open_0']\n",
    "df_1.drop(['Open_1', 'Open_0'], axis=1, inplace=True)\n",
    "\n",
    "df_2['Open_dif'] = df_2['Open_1'] - df_2['Open_0']\n",
    "df_2.drop(['Open_1', 'Open_0'], axis=1, inplace=True)\n",
    "\n",
    "df_3['Open_dif'] = df_3['Open_1'] - df_3['Open_0']\n",
    "df_3.drop(['Open_1', 'Open_0'], axis=1, inplace=True)\n",
    "\n",
    "df_4['Open_dif'] = df_4['Open_1'] - df_4['Open_0']\n",
    "df_4.drop(['Open_1', 'Open_0'], axis=1, inplace=True)\n",
    "\n",
    "df_5['Open_dif'] = df_5['Open_1'] - df_5['Open_0']\n",
    "df_5.drop(['Open_1', 'Open_0'], axis=1, inplace=True)"
   ]
  },
  {
   "cell_type": "code",
   "execution_count": 4,
   "id": "760067f5",
   "metadata": {},
   "outputs": [],
   "source": [
    "km_1 = KMeans(n_clusters=3)\n",
    "km_2 = KMeans(n_clusters=3)\n",
    "km_3 = KMeans(n_clusters=3)\n",
    "km_4 = KMeans(n_clusters=3)\n",
    "km_5 = KMeans(n_clusters=3)"
   ]
  },
  {
   "cell_type": "code",
   "execution_count": 5,
   "id": "b797c99d",
   "metadata": {},
   "outputs": [],
   "source": [
    "y_1 = km_1.fit_predict(df_1)\n",
    "y_2 = km_2.fit_predict(df_2)\n",
    "y_3 = km_3.fit_predict(df_3)\n",
    "y_4 = km_4.fit_predict(df_4)\n",
    "y_5 = km_5.fit_predict(df_5)"
   ]
  },
  {
   "cell_type": "code",
   "execution_count": 6,
   "id": "e7219562",
   "metadata": {},
   "outputs": [
    {
     "name": "stdout",
     "output_type": "stream",
     "text": [
      "1 ano: cluster 1:4119 / Cluster 2:418 / Cluster 3:356\n",
      "\n",
      "2 ano: cluster 1:225 / Cluster 2:3097 / Cluster 3:396\n",
      "\n",
      "3 ano: cluster 1:2303 / Cluster 2:383 / Cluster 3:115\n",
      "\n",
      "4 ano: cluster 1:1898 / Cluster 2:357 / Cluster 3:98\n",
      "\n",
      "5 ano: cluster 1:1531 / Cluster 2:308 / Cluster 3:75\n",
      "\n"
     ]
    }
   ],
   "source": [
    "print(\"1 ano: cluster 1:{} / Cluster 2:{} / Cluster 3:{}\\n\".format(len(df_1[y_1 == 0]), len(df_1[y_1 == 1]), len(df_1[y_1 == 2])))\n",
    "print(\"2 ano: cluster 1:{} / Cluster 2:{} / Cluster 3:{}\\n\".format(len(df_2[y_2 == 0]), len(df_2[y_2 == 1]), len(df_2[y_2 == 2])))\n",
    "print(\"3 ano: cluster 1:{} / Cluster 2:{} / Cluster 3:{}\\n\".format(len(df_3[y_3 == 0]), len(df_3[y_3 == 1]), len(df_3[y_3 == 2])))\n",
    "print(\"4 ano: cluster 1:{} / Cluster 2:{} / Cluster 3:{}\\n\".format(len(df_4[y_4 == 0]), len(df_4[y_4 == 1]), len(df_4[y_4 == 2])))\n",
    "print(\"5 ano: cluster 1:{} / Cluster 2:{} / Cluster 3:{}\\n\".format(len(df_5[y_5 == 0]), len(df_5[y_5 == 1]), len(df_5[y_5 == 2])))"
   ]
  },
  {
   "cell_type": "code",
   "execution_count": 7,
   "id": "8bc7143b",
   "metadata": {},
   "outputs": [],
   "source": [
    "view_1 = df_1.drop(df_1.nsmallest(n=4, columns='Open_dif').index)\n",
    "y_view_1 = np.delete(y_1, df_1.nsmallest(n=4, columns='Open_dif').index)"
   ]
  },
  {
   "cell_type": "code",
   "execution_count": 8,
   "id": "32f111f1",
   "metadata": {},
   "outputs": [],
   "source": [
    "view_2 = df_2.drop(df_2.nsmallest(n=2, columns='Open_dif').index)\n",
    "y_view_2 = np.delete(y_2, df_2.nsmallest(n=2, columns='Open_dif').index)"
   ]
  },
  {
   "cell_type": "code",
   "execution_count": 9,
   "id": "ecb843c5",
   "metadata": {},
   "outputs": [],
   "source": [
    "view_3 = df_3.drop(df_3.nsmallest(n=3, columns='Open_dif').index)\n",
    "y_view_3 = np.delete(y_3, df_3.nsmallest(n=3, columns='Open_dif').index)"
   ]
  },
  {
   "cell_type": "code",
   "execution_count": 10,
   "id": "21af829c",
   "metadata": {},
   "outputs": [],
   "source": [
    "view_4 = df_4.drop(df_4.nsmallest(n=3, columns='Open_dif').index)\n",
    "y_view_4 = np.delete(y_4, df_4.nsmallest(n=3, columns='Open_dif').index)"
   ]
  },
  {
   "cell_type": "code",
   "execution_count": 11,
   "id": "fedd11a8",
   "metadata": {},
   "outputs": [],
   "source": [
    "view_5 = df_5.drop(df_5.nsmallest(n=3, columns='Open_dif').index)\n",
    "y_view_5 = np.delete(y_5, df_5.nsmallest(n=3, columns='Open_dif').index)"
   ]
  },
  {
   "cell_type": "code",
   "execution_count": 12,
   "id": "4dce1bcf",
   "metadata": {},
   "outputs": [],
   "source": [
    "current_directory_path = os.getcwd()"
   ]
  },
  {
   "cell_type": "code",
   "execution_count": 13,
   "id": "88544d65",
   "metadata": {},
   "outputs": [
    {
     "name": "stderr",
     "output_type": "stream",
     "text": [
      "C:\\Users\\panto\\AppData\\Local\\Temp/ipykernel_17404/2692025881.py:4: RuntimeWarning: More than 20 figures have been opened. Figures created through the pyplot interface (`matplotlib.pyplot.figure`) are retained until explicitly closed and may consume too much memory. (To control this warning, see the rcParam `figure.max_open_warning`).\n",
      "  plt.figure(figsize=(20, 20), dpi=80)\n"
     ]
    },
    {
     "data": {
      "text/plain": [
       "<Figure size 1600x1600 with 0 Axes>"
      ]
     },
     "metadata": {},
     "output_type": "display_data"
    },
    {
     "data": {
      "text/plain": [
       "<Figure size 1600x1600 with 0 Axes>"
      ]
     },
     "metadata": {},
     "output_type": "display_data"
    },
    {
     "data": {
      "text/plain": [
       "<Figure size 1600x1600 with 0 Axes>"
      ]
     },
     "metadata": {},
     "output_type": "display_data"
    },
    {
     "data": {
      "text/plain": [
       "<Figure size 1600x1600 with 0 Axes>"
      ]
     },
     "metadata": {},
     "output_type": "display_data"
    },
    {
     "data": {
      "text/plain": [
       "<Figure size 1600x1600 with 0 Axes>"
      ]
     },
     "metadata": {},
     "output_type": "display_data"
    },
    {
     "data": {
      "text/plain": [
       "<Figure size 1600x1600 with 0 Axes>"
      ]
     },
     "metadata": {},
     "output_type": "display_data"
    },
    {
     "data": {
      "text/plain": [
       "<Figure size 1600x1600 with 0 Axes>"
      ]
     },
     "metadata": {},
     "output_type": "display_data"
    },
    {
     "data": {
      "text/plain": [
       "<Figure size 1600x1600 with 0 Axes>"
      ]
     },
     "metadata": {},
     "output_type": "display_data"
    },
    {
     "data": {
      "text/plain": [
       "<Figure size 1600x1600 with 0 Axes>"
      ]
     },
     "metadata": {},
     "output_type": "display_data"
    },
    {
     "data": {
      "text/plain": [
       "<Figure size 1600x1600 with 0 Axes>"
      ]
     },
     "metadata": {},
     "output_type": "display_data"
    },
    {
     "data": {
      "text/plain": [
       "<Figure size 1600x1600 with 0 Axes>"
      ]
     },
     "metadata": {},
     "output_type": "display_data"
    },
    {
     "data": {
      "text/plain": [
       "<Figure size 1600x1600 with 0 Axes>"
      ]
     },
     "metadata": {},
     "output_type": "display_data"
    },
    {
     "data": {
      "text/plain": [
       "<Figure size 1600x1600 with 0 Axes>"
      ]
     },
     "metadata": {},
     "output_type": "display_data"
    },
    {
     "data": {
      "text/plain": [
       "<Figure size 1600x1600 with 0 Axes>"
      ]
     },
     "metadata": {},
     "output_type": "display_data"
    },
    {
     "data": {
      "text/plain": [
       "<Figure size 1600x1600 with 0 Axes>"
      ]
     },
     "metadata": {},
     "output_type": "display_data"
    },
    {
     "data": {
      "text/plain": [
       "<Figure size 1600x1600 with 0 Axes>"
      ]
     },
     "metadata": {},
     "output_type": "display_data"
    },
    {
     "data": {
      "text/plain": [
       "<Figure size 1600x1600 with 0 Axes>"
      ]
     },
     "metadata": {},
     "output_type": "display_data"
    },
    {
     "data": {
      "text/plain": [
       "<Figure size 1600x1600 with 0 Axes>"
      ]
     },
     "metadata": {},
     "output_type": "display_data"
    },
    {
     "data": {
      "text/plain": [
       "<Figure size 1600x1600 with 0 Axes>"
      ]
     },
     "metadata": {},
     "output_type": "display_data"
    },
    {
     "data": {
      "text/plain": [
       "<Figure size 1600x1600 with 0 Axes>"
      ]
     },
     "metadata": {},
     "output_type": "display_data"
    },
    {
     "data": {
      "text/plain": [
       "<Figure size 1600x1600 with 0 Axes>"
      ]
     },
     "metadata": {},
     "output_type": "display_data"
    },
    {
     "data": {
      "text/plain": [
       "<Figure size 1600x1600 with 0 Axes>"
      ]
     },
     "metadata": {},
     "output_type": "display_data"
    },
    {
     "data": {
      "text/plain": [
       "<Figure size 1600x1600 with 0 Axes>"
      ]
     },
     "metadata": {},
     "output_type": "display_data"
    },
    {
     "data": {
      "text/plain": [
       "<Figure size 1600x1600 with 0 Axes>"
      ]
     },
     "metadata": {},
     "output_type": "display_data"
    },
    {
     "data": {
      "text/plain": [
       "<Figure size 1600x1600 with 0 Axes>"
      ]
     },
     "metadata": {},
     "output_type": "display_data"
    },
    {
     "data": {
      "text/plain": [
       "<Figure size 1600x1600 with 0 Axes>"
      ]
     },
     "metadata": {},
     "output_type": "display_data"
    },
    {
     "data": {
      "text/plain": [
       "<Figure size 1600x1600 with 0 Axes>"
      ]
     },
     "metadata": {},
     "output_type": "display_data"
    },
    {
     "data": {
      "text/plain": [
       "<Figure size 1600x1600 with 0 Axes>"
      ]
     },
     "metadata": {},
     "output_type": "display_data"
    },
    {
     "data": {
      "text/plain": [
       "<Figure size 1600x1600 with 0 Axes>"
      ]
     },
     "metadata": {},
     "output_type": "display_data"
    }
   ],
   "source": [
    "counter = 1\n",
    "\n",
    "for col in view_1.drop('Open_dif', axis=1).columns:\n",
    "    plt.figure(figsize=(20, 20), dpi=80)\n",
    "    \n",
    "    plt.scatter(\n",
    "        view_1['Open_dif'][y_view_1 == 0], view_1[col][y_view_1 == 0],\n",
    "        s=50, c='lightgreen',\n",
    "        marker='s', edgecolor='black',\n",
    "        label='cluster 1'\n",
    "    )\n",
    "\n",
    "    plt.scatter(\n",
    "        view_1['Open_dif'][y_view_1 == 1], view_1[col][y_view_1 == 1],\n",
    "        s=50, c='orange',\n",
    "        marker='o', edgecolor='black',\n",
    "        label='cluster 2'\n",
    "    )\n",
    "\n",
    "    plt.scatter(\n",
    "        view_1['Open_dif'][y_view_1 == 2], view_1[col][y_view_1 == 2],\n",
    "        s=50, c='blue',\n",
    "        marker='o', edgecolor='black',\n",
    "        label='cluster 3'\n",
    "    )\n",
    "    \n",
    "    plt.title(\"{} x Price in a Year\".format(col))\n",
    "    plt.xlabel('Price')\n",
    "    plt.ylabel(col)\n",
    "    plt.legend(scatterpoints=1)\n",
    "    plt.grid()\n",
    "    \n",
    "    file_name = \"Unsurpevised_plots\\\\1_year_plt_{}.jpg\".format(counter)\n",
    "    file_path = os.path.join(current_directory_path, file_name)\n",
    "    plt.savefig(file_path)\n",
    "    plt.clf()\n",
    "    \n",
    "    counter += 1"
   ]
  },
  {
   "cell_type": "code",
   "execution_count": 14,
   "id": "5821c12d",
   "metadata": {},
   "outputs": [
    {
     "name": "stderr",
     "output_type": "stream",
     "text": [
      "C:\\Users\\panto\\AppData\\Local\\Temp/ipykernel_17404/3290886464.py:4: RuntimeWarning: More than 20 figures have been opened. Figures created through the pyplot interface (`matplotlib.pyplot.figure`) are retained until explicitly closed and may consume too much memory. (To control this warning, see the rcParam `figure.max_open_warning`).\n",
      "  plt.figure(figsize=(20, 20), dpi=80)\n"
     ]
    },
    {
     "data": {
      "text/plain": [
       "<Figure size 1600x1600 with 0 Axes>"
      ]
     },
     "metadata": {},
     "output_type": "display_data"
    },
    {
     "data": {
      "text/plain": [
       "<Figure size 1600x1600 with 0 Axes>"
      ]
     },
     "metadata": {},
     "output_type": "display_data"
    },
    {
     "data": {
      "text/plain": [
       "<Figure size 1600x1600 with 0 Axes>"
      ]
     },
     "metadata": {},
     "output_type": "display_data"
    },
    {
     "data": {
      "text/plain": [
       "<Figure size 1600x1600 with 0 Axes>"
      ]
     },
     "metadata": {},
     "output_type": "display_data"
    },
    {
     "data": {
      "text/plain": [
       "<Figure size 1600x1600 with 0 Axes>"
      ]
     },
     "metadata": {},
     "output_type": "display_data"
    },
    {
     "data": {
      "text/plain": [
       "<Figure size 1600x1600 with 0 Axes>"
      ]
     },
     "metadata": {},
     "output_type": "display_data"
    },
    {
     "data": {
      "text/plain": [
       "<Figure size 1600x1600 with 0 Axes>"
      ]
     },
     "metadata": {},
     "output_type": "display_data"
    },
    {
     "data": {
      "text/plain": [
       "<Figure size 1600x1600 with 0 Axes>"
      ]
     },
     "metadata": {},
     "output_type": "display_data"
    },
    {
     "data": {
      "text/plain": [
       "<Figure size 1600x1600 with 0 Axes>"
      ]
     },
     "metadata": {},
     "output_type": "display_data"
    },
    {
     "data": {
      "text/plain": [
       "<Figure size 1600x1600 with 0 Axes>"
      ]
     },
     "metadata": {},
     "output_type": "display_data"
    },
    {
     "data": {
      "text/plain": [
       "<Figure size 1600x1600 with 0 Axes>"
      ]
     },
     "metadata": {},
     "output_type": "display_data"
    },
    {
     "data": {
      "text/plain": [
       "<Figure size 1600x1600 with 0 Axes>"
      ]
     },
     "metadata": {},
     "output_type": "display_data"
    },
    {
     "data": {
      "text/plain": [
       "<Figure size 1600x1600 with 0 Axes>"
      ]
     },
     "metadata": {},
     "output_type": "display_data"
    },
    {
     "data": {
      "text/plain": [
       "<Figure size 1600x1600 with 0 Axes>"
      ]
     },
     "metadata": {},
     "output_type": "display_data"
    },
    {
     "data": {
      "text/plain": [
       "<Figure size 1600x1600 with 0 Axes>"
      ]
     },
     "metadata": {},
     "output_type": "display_data"
    },
    {
     "data": {
      "text/plain": [
       "<Figure size 1600x1600 with 0 Axes>"
      ]
     },
     "metadata": {},
     "output_type": "display_data"
    },
    {
     "data": {
      "text/plain": [
       "<Figure size 1600x1600 with 0 Axes>"
      ]
     },
     "metadata": {},
     "output_type": "display_data"
    },
    {
     "data": {
      "text/plain": [
       "<Figure size 1600x1600 with 0 Axes>"
      ]
     },
     "metadata": {},
     "output_type": "display_data"
    },
    {
     "data": {
      "text/plain": [
       "<Figure size 1600x1600 with 0 Axes>"
      ]
     },
     "metadata": {},
     "output_type": "display_data"
    },
    {
     "data": {
      "text/plain": [
       "<Figure size 1600x1600 with 0 Axes>"
      ]
     },
     "metadata": {},
     "output_type": "display_data"
    },
    {
     "data": {
      "text/plain": [
       "<Figure size 1600x1600 with 0 Axes>"
      ]
     },
     "metadata": {},
     "output_type": "display_data"
    },
    {
     "data": {
      "text/plain": [
       "<Figure size 1600x1600 with 0 Axes>"
      ]
     },
     "metadata": {},
     "output_type": "display_data"
    },
    {
     "data": {
      "text/plain": [
       "<Figure size 1600x1600 with 0 Axes>"
      ]
     },
     "metadata": {},
     "output_type": "display_data"
    },
    {
     "data": {
      "text/plain": [
       "<Figure size 1600x1600 with 0 Axes>"
      ]
     },
     "metadata": {},
     "output_type": "display_data"
    },
    {
     "data": {
      "text/plain": [
       "<Figure size 1600x1600 with 0 Axes>"
      ]
     },
     "metadata": {},
     "output_type": "display_data"
    },
    {
     "data": {
      "text/plain": [
       "<Figure size 1600x1600 with 0 Axes>"
      ]
     },
     "metadata": {},
     "output_type": "display_data"
    },
    {
     "data": {
      "text/plain": [
       "<Figure size 1600x1600 with 0 Axes>"
      ]
     },
     "metadata": {},
     "output_type": "display_data"
    },
    {
     "data": {
      "text/plain": [
       "<Figure size 1600x1600 with 0 Axes>"
      ]
     },
     "metadata": {},
     "output_type": "display_data"
    },
    {
     "data": {
      "text/plain": [
       "<Figure size 1600x1600 with 0 Axes>"
      ]
     },
     "metadata": {},
     "output_type": "display_data"
    }
   ],
   "source": [
    "counter = 1\n",
    "\n",
    "for col in view_2.drop('Open_dif', axis=1).columns:\n",
    "    plt.figure(figsize=(20, 20), dpi=80)\n",
    "    \n",
    "    plt.scatter(\n",
    "        view_2['Open_dif'][y_view_2 == 0], view_2[col][y_view_2 == 0],\n",
    "        s=50, c='lightgreen',\n",
    "        marker='s', edgecolor='black',\n",
    "        label='cluster 1'\n",
    "    )\n",
    "\n",
    "    plt.scatter(\n",
    "        view_2['Open_dif'][y_view_2 == 1], view_2[col][y_view_2 == 1],\n",
    "        s=50, c='orange',\n",
    "        marker='o', edgecolor='black',\n",
    "        label='cluster 2'\n",
    "    )\n",
    "\n",
    "    plt.scatter(\n",
    "        view_2['Open_dif'][y_view_2 == 2], view_2[col][y_view_2 == 2],\n",
    "        s=50, c='blue',\n",
    "        marker='o', edgecolor='black',\n",
    "        label='cluster 3'\n",
    "    )\n",
    "    \n",
    "    plt.title(\"{} x Price in a Year\".format(col))\n",
    "    plt.xlabel('Price')\n",
    "    plt.ylabel(col)\n",
    "    plt.legend(scatterpoints=1)\n",
    "    plt.grid()\n",
    "    \n",
    "    file_name = \"Unsurpevised_plots\\\\2_year_plt_{}.jpg\".format(counter)\n",
    "    file_path = os.path.join(current_directory_path, file_name)\n",
    "    plt.savefig(file_path)\n",
    "    plt.clf()\n",
    "    \n",
    "    counter += 1"
   ]
  },
  {
   "cell_type": "code",
   "execution_count": 15,
   "id": "b1aa3d1e",
   "metadata": {},
   "outputs": [
    {
     "name": "stderr",
     "output_type": "stream",
     "text": [
      "C:\\Users\\panto\\AppData\\Local\\Temp/ipykernel_17404/3060415469.py:4: RuntimeWarning: More than 20 figures have been opened. Figures created through the pyplot interface (`matplotlib.pyplot.figure`) are retained until explicitly closed and may consume too much memory. (To control this warning, see the rcParam `figure.max_open_warning`).\n",
      "  plt.figure(figsize=(20, 20), dpi=80)\n"
     ]
    },
    {
     "data": {
      "text/plain": [
       "<Figure size 1600x1600 with 0 Axes>"
      ]
     },
     "metadata": {},
     "output_type": "display_data"
    },
    {
     "data": {
      "text/plain": [
       "<Figure size 1600x1600 with 0 Axes>"
      ]
     },
     "metadata": {},
     "output_type": "display_data"
    },
    {
     "data": {
      "text/plain": [
       "<Figure size 1600x1600 with 0 Axes>"
      ]
     },
     "metadata": {},
     "output_type": "display_data"
    },
    {
     "data": {
      "text/plain": [
       "<Figure size 1600x1600 with 0 Axes>"
      ]
     },
     "metadata": {},
     "output_type": "display_data"
    },
    {
     "data": {
      "text/plain": [
       "<Figure size 1600x1600 with 0 Axes>"
      ]
     },
     "metadata": {},
     "output_type": "display_data"
    },
    {
     "data": {
      "text/plain": [
       "<Figure size 1600x1600 with 0 Axes>"
      ]
     },
     "metadata": {},
     "output_type": "display_data"
    },
    {
     "data": {
      "text/plain": [
       "<Figure size 1600x1600 with 0 Axes>"
      ]
     },
     "metadata": {},
     "output_type": "display_data"
    },
    {
     "data": {
      "text/plain": [
       "<Figure size 1600x1600 with 0 Axes>"
      ]
     },
     "metadata": {},
     "output_type": "display_data"
    },
    {
     "data": {
      "text/plain": [
       "<Figure size 1600x1600 with 0 Axes>"
      ]
     },
     "metadata": {},
     "output_type": "display_data"
    },
    {
     "data": {
      "text/plain": [
       "<Figure size 1600x1600 with 0 Axes>"
      ]
     },
     "metadata": {},
     "output_type": "display_data"
    },
    {
     "data": {
      "text/plain": [
       "<Figure size 1600x1600 with 0 Axes>"
      ]
     },
     "metadata": {},
     "output_type": "display_data"
    },
    {
     "data": {
      "text/plain": [
       "<Figure size 1600x1600 with 0 Axes>"
      ]
     },
     "metadata": {},
     "output_type": "display_data"
    },
    {
     "data": {
      "text/plain": [
       "<Figure size 1600x1600 with 0 Axes>"
      ]
     },
     "metadata": {},
     "output_type": "display_data"
    },
    {
     "data": {
      "text/plain": [
       "<Figure size 1600x1600 with 0 Axes>"
      ]
     },
     "metadata": {},
     "output_type": "display_data"
    },
    {
     "data": {
      "text/plain": [
       "<Figure size 1600x1600 with 0 Axes>"
      ]
     },
     "metadata": {},
     "output_type": "display_data"
    },
    {
     "data": {
      "text/plain": [
       "<Figure size 1600x1600 with 0 Axes>"
      ]
     },
     "metadata": {},
     "output_type": "display_data"
    },
    {
     "data": {
      "text/plain": [
       "<Figure size 1600x1600 with 0 Axes>"
      ]
     },
     "metadata": {},
     "output_type": "display_data"
    },
    {
     "data": {
      "text/plain": [
       "<Figure size 1600x1600 with 0 Axes>"
      ]
     },
     "metadata": {},
     "output_type": "display_data"
    },
    {
     "data": {
      "text/plain": [
       "<Figure size 1600x1600 with 0 Axes>"
      ]
     },
     "metadata": {},
     "output_type": "display_data"
    },
    {
     "data": {
      "text/plain": [
       "<Figure size 1600x1600 with 0 Axes>"
      ]
     },
     "metadata": {},
     "output_type": "display_data"
    },
    {
     "data": {
      "text/plain": [
       "<Figure size 1600x1600 with 0 Axes>"
      ]
     },
     "metadata": {},
     "output_type": "display_data"
    },
    {
     "data": {
      "text/plain": [
       "<Figure size 1600x1600 with 0 Axes>"
      ]
     },
     "metadata": {},
     "output_type": "display_data"
    },
    {
     "data": {
      "text/plain": [
       "<Figure size 1600x1600 with 0 Axes>"
      ]
     },
     "metadata": {},
     "output_type": "display_data"
    },
    {
     "data": {
      "text/plain": [
       "<Figure size 1600x1600 with 0 Axes>"
      ]
     },
     "metadata": {},
     "output_type": "display_data"
    },
    {
     "data": {
      "text/plain": [
       "<Figure size 1600x1600 with 0 Axes>"
      ]
     },
     "metadata": {},
     "output_type": "display_data"
    },
    {
     "data": {
      "text/plain": [
       "<Figure size 1600x1600 with 0 Axes>"
      ]
     },
     "metadata": {},
     "output_type": "display_data"
    },
    {
     "data": {
      "text/plain": [
       "<Figure size 1600x1600 with 0 Axes>"
      ]
     },
     "metadata": {},
     "output_type": "display_data"
    },
    {
     "data": {
      "text/plain": [
       "<Figure size 1600x1600 with 0 Axes>"
      ]
     },
     "metadata": {},
     "output_type": "display_data"
    },
    {
     "data": {
      "text/plain": [
       "<Figure size 1600x1600 with 0 Axes>"
      ]
     },
     "metadata": {},
     "output_type": "display_data"
    }
   ],
   "source": [
    "counter = 1\n",
    "\n",
    "for col in view_3.drop('Open_dif', axis=1).columns:\n",
    "    plt.figure(figsize=(20, 20), dpi=80)\n",
    "    \n",
    "    plt.scatter(\n",
    "        view_3['Open_dif'][y_view_3 == 0], view_3[col][y_view_3 == 0],\n",
    "        s=50, c='lightgreen',\n",
    "        marker='s', edgecolor='black',\n",
    "        label='cluster 1'\n",
    "    )\n",
    "\n",
    "    plt.scatter(\n",
    "        view_3['Open_dif'][y_view_3 == 1], view_3[col][y_view_3 == 1],\n",
    "        s=50, c='orange',\n",
    "        marker='o', edgecolor='black',\n",
    "        label='cluster 2'\n",
    "    )\n",
    "\n",
    "    plt.scatter(\n",
    "        view_3['Open_dif'][y_view_3 == 2], view_3[col][y_view_3 == 2],\n",
    "        s=50, c='blue',\n",
    "        marker='o', edgecolor='black',\n",
    "        label='cluster 3'\n",
    "    )\n",
    "    \n",
    "    plt.title(\"{} x Price in a Year\".format(col))\n",
    "    plt.xlabel('Price')\n",
    "    plt.ylabel(col)\n",
    "    plt.legend(scatterpoints=1)\n",
    "    plt.grid()\n",
    "    \n",
    "    file_name = \"Unsurpevised_plots\\\\3_year_plt_{}.jpg\".format(counter)\n",
    "    file_path = os.path.join(current_directory_path, file_name)\n",
    "    plt.savefig(file_path)\n",
    "    plt.clf()\n",
    "    \n",
    "    counter += 1"
   ]
  },
  {
   "cell_type": "code",
   "execution_count": 16,
   "id": "05deffd9",
   "metadata": {},
   "outputs": [
    {
     "name": "stderr",
     "output_type": "stream",
     "text": [
      "C:\\Users\\panto\\AppData\\Local\\Temp/ipykernel_17404/174173046.py:4: RuntimeWarning: More than 20 figures have been opened. Figures created through the pyplot interface (`matplotlib.pyplot.figure`) are retained until explicitly closed and may consume too much memory. (To control this warning, see the rcParam `figure.max_open_warning`).\n",
      "  plt.figure(figsize=(20, 20), dpi=80)\n"
     ]
    },
    {
     "data": {
      "text/plain": [
       "<Figure size 1600x1600 with 0 Axes>"
      ]
     },
     "metadata": {},
     "output_type": "display_data"
    },
    {
     "data": {
      "text/plain": [
       "<Figure size 1600x1600 with 0 Axes>"
      ]
     },
     "metadata": {},
     "output_type": "display_data"
    },
    {
     "data": {
      "text/plain": [
       "<Figure size 1600x1600 with 0 Axes>"
      ]
     },
     "metadata": {},
     "output_type": "display_data"
    },
    {
     "data": {
      "text/plain": [
       "<Figure size 1600x1600 with 0 Axes>"
      ]
     },
     "metadata": {},
     "output_type": "display_data"
    },
    {
     "data": {
      "text/plain": [
       "<Figure size 1600x1600 with 0 Axes>"
      ]
     },
     "metadata": {},
     "output_type": "display_data"
    },
    {
     "data": {
      "text/plain": [
       "<Figure size 1600x1600 with 0 Axes>"
      ]
     },
     "metadata": {},
     "output_type": "display_data"
    },
    {
     "data": {
      "text/plain": [
       "<Figure size 1600x1600 with 0 Axes>"
      ]
     },
     "metadata": {},
     "output_type": "display_data"
    },
    {
     "data": {
      "text/plain": [
       "<Figure size 1600x1600 with 0 Axes>"
      ]
     },
     "metadata": {},
     "output_type": "display_data"
    },
    {
     "data": {
      "text/plain": [
       "<Figure size 1600x1600 with 0 Axes>"
      ]
     },
     "metadata": {},
     "output_type": "display_data"
    },
    {
     "data": {
      "text/plain": [
       "<Figure size 1600x1600 with 0 Axes>"
      ]
     },
     "metadata": {},
     "output_type": "display_data"
    },
    {
     "data": {
      "text/plain": [
       "<Figure size 1600x1600 with 0 Axes>"
      ]
     },
     "metadata": {},
     "output_type": "display_data"
    },
    {
     "data": {
      "text/plain": [
       "<Figure size 1600x1600 with 0 Axes>"
      ]
     },
     "metadata": {},
     "output_type": "display_data"
    },
    {
     "data": {
      "text/plain": [
       "<Figure size 1600x1600 with 0 Axes>"
      ]
     },
     "metadata": {},
     "output_type": "display_data"
    },
    {
     "data": {
      "text/plain": [
       "<Figure size 1600x1600 with 0 Axes>"
      ]
     },
     "metadata": {},
     "output_type": "display_data"
    },
    {
     "data": {
      "text/plain": [
       "<Figure size 1600x1600 with 0 Axes>"
      ]
     },
     "metadata": {},
     "output_type": "display_data"
    },
    {
     "data": {
      "text/plain": [
       "<Figure size 1600x1600 with 0 Axes>"
      ]
     },
     "metadata": {},
     "output_type": "display_data"
    },
    {
     "data": {
      "text/plain": [
       "<Figure size 1600x1600 with 0 Axes>"
      ]
     },
     "metadata": {},
     "output_type": "display_data"
    },
    {
     "data": {
      "text/plain": [
       "<Figure size 1600x1600 with 0 Axes>"
      ]
     },
     "metadata": {},
     "output_type": "display_data"
    },
    {
     "data": {
      "text/plain": [
       "<Figure size 1600x1600 with 0 Axes>"
      ]
     },
     "metadata": {},
     "output_type": "display_data"
    },
    {
     "data": {
      "text/plain": [
       "<Figure size 1600x1600 with 0 Axes>"
      ]
     },
     "metadata": {},
     "output_type": "display_data"
    },
    {
     "data": {
      "text/plain": [
       "<Figure size 1600x1600 with 0 Axes>"
      ]
     },
     "metadata": {},
     "output_type": "display_data"
    },
    {
     "data": {
      "text/plain": [
       "<Figure size 1600x1600 with 0 Axes>"
      ]
     },
     "metadata": {},
     "output_type": "display_data"
    },
    {
     "data": {
      "text/plain": [
       "<Figure size 1600x1600 with 0 Axes>"
      ]
     },
     "metadata": {},
     "output_type": "display_data"
    },
    {
     "data": {
      "text/plain": [
       "<Figure size 1600x1600 with 0 Axes>"
      ]
     },
     "metadata": {},
     "output_type": "display_data"
    },
    {
     "data": {
      "text/plain": [
       "<Figure size 1600x1600 with 0 Axes>"
      ]
     },
     "metadata": {},
     "output_type": "display_data"
    },
    {
     "data": {
      "text/plain": [
       "<Figure size 1600x1600 with 0 Axes>"
      ]
     },
     "metadata": {},
     "output_type": "display_data"
    },
    {
     "data": {
      "text/plain": [
       "<Figure size 1600x1600 with 0 Axes>"
      ]
     },
     "metadata": {},
     "output_type": "display_data"
    },
    {
     "data": {
      "text/plain": [
       "<Figure size 1600x1600 with 0 Axes>"
      ]
     },
     "metadata": {},
     "output_type": "display_data"
    },
    {
     "data": {
      "text/plain": [
       "<Figure size 1600x1600 with 0 Axes>"
      ]
     },
     "metadata": {},
     "output_type": "display_data"
    }
   ],
   "source": [
    "counter = 1\n",
    "\n",
    "for col in view_4.drop('Open_dif', axis=1).columns:\n",
    "    plt.figure(figsize=(20, 20), dpi=80)\n",
    "    \n",
    "    plt.scatter(\n",
    "        view_4['Open_dif'][y_view_4 == 0], view_4[col][y_view_4 == 0],\n",
    "        s=50, c='lightgreen',\n",
    "        marker='s', edgecolor='black',\n",
    "        label='cluster 1'\n",
    "    )\n",
    "\n",
    "    plt.scatter(\n",
    "        view_4['Open_dif'][y_view_4 == 1], view_4[col][y_view_4 == 1],\n",
    "        s=50, c='orange',\n",
    "        marker='o', edgecolor='black',\n",
    "        label='cluster 2'\n",
    "    )\n",
    "\n",
    "    plt.scatter(\n",
    "        view_4['Open_dif'][y_view_4 == 2], view_4[col][y_view_4 == 2],\n",
    "        s=50, c='blue',\n",
    "        marker='o', edgecolor='black',\n",
    "        label='cluster 3'\n",
    "    )\n",
    "    \n",
    "    plt.title(\"{} x Price in a Year\".format(col))\n",
    "    plt.xlabel('Price')\n",
    "    plt.ylabel(col)\n",
    "    plt.legend(scatterpoints=1)\n",
    "    plt.grid()\n",
    "    \n",
    "    file_name = \"Unsurpevised_plots\\\\4_year_plt_{}.jpg\".format(counter)\n",
    "    file_path = os.path.join(current_directory_path, file_name)\n",
    "    plt.savefig(file_path)\n",
    "    plt.clf()\n",
    "    \n",
    "    counter += 1"
   ]
  },
  {
   "cell_type": "code",
   "execution_count": 18,
   "id": "efa8c6ff",
   "metadata": {},
   "outputs": [
    {
     "name": "stderr",
     "output_type": "stream",
     "text": [
      "C:\\Users\\panto\\AppData\\Local\\Temp/ipykernel_17404/471001217.py:4: RuntimeWarning: More than 20 figures have been opened. Figures created through the pyplot interface (`matplotlib.pyplot.figure`) are retained until explicitly closed and may consume too much memory. (To control this warning, see the rcParam `figure.max_open_warning`).\n",
      "  plt.figure(figsize=(20, 20), dpi=80)\n"
     ]
    },
    {
     "data": {
      "text/plain": [
       "<Figure size 1600x1600 with 0 Axes>"
      ]
     },
     "metadata": {},
     "output_type": "display_data"
    },
    {
     "data": {
      "text/plain": [
       "<Figure size 1600x1600 with 0 Axes>"
      ]
     },
     "metadata": {},
     "output_type": "display_data"
    },
    {
     "data": {
      "text/plain": [
       "<Figure size 1600x1600 with 0 Axes>"
      ]
     },
     "metadata": {},
     "output_type": "display_data"
    },
    {
     "data": {
      "text/plain": [
       "<Figure size 1600x1600 with 0 Axes>"
      ]
     },
     "metadata": {},
     "output_type": "display_data"
    },
    {
     "data": {
      "text/plain": [
       "<Figure size 1600x1600 with 0 Axes>"
      ]
     },
     "metadata": {},
     "output_type": "display_data"
    },
    {
     "data": {
      "text/plain": [
       "<Figure size 1600x1600 with 0 Axes>"
      ]
     },
     "metadata": {},
     "output_type": "display_data"
    },
    {
     "data": {
      "text/plain": [
       "<Figure size 1600x1600 with 0 Axes>"
      ]
     },
     "metadata": {},
     "output_type": "display_data"
    },
    {
     "data": {
      "text/plain": [
       "<Figure size 1600x1600 with 0 Axes>"
      ]
     },
     "metadata": {},
     "output_type": "display_data"
    },
    {
     "data": {
      "text/plain": [
       "<Figure size 1600x1600 with 0 Axes>"
      ]
     },
     "metadata": {},
     "output_type": "display_data"
    },
    {
     "data": {
      "text/plain": [
       "<Figure size 1600x1600 with 0 Axes>"
      ]
     },
     "metadata": {},
     "output_type": "display_data"
    },
    {
     "data": {
      "text/plain": [
       "<Figure size 1600x1600 with 0 Axes>"
      ]
     },
     "metadata": {},
     "output_type": "display_data"
    },
    {
     "data": {
      "text/plain": [
       "<Figure size 1600x1600 with 0 Axes>"
      ]
     },
     "metadata": {},
     "output_type": "display_data"
    },
    {
     "data": {
      "text/plain": [
       "<Figure size 1600x1600 with 0 Axes>"
      ]
     },
     "metadata": {},
     "output_type": "display_data"
    },
    {
     "data": {
      "text/plain": [
       "<Figure size 1600x1600 with 0 Axes>"
      ]
     },
     "metadata": {},
     "output_type": "display_data"
    },
    {
     "data": {
      "text/plain": [
       "<Figure size 1600x1600 with 0 Axes>"
      ]
     },
     "metadata": {},
     "output_type": "display_data"
    },
    {
     "data": {
      "text/plain": [
       "<Figure size 1600x1600 with 0 Axes>"
      ]
     },
     "metadata": {},
     "output_type": "display_data"
    },
    {
     "data": {
      "text/plain": [
       "<Figure size 1600x1600 with 0 Axes>"
      ]
     },
     "metadata": {},
     "output_type": "display_data"
    },
    {
     "data": {
      "text/plain": [
       "<Figure size 1600x1600 with 0 Axes>"
      ]
     },
     "metadata": {},
     "output_type": "display_data"
    },
    {
     "data": {
      "text/plain": [
       "<Figure size 1600x1600 with 0 Axes>"
      ]
     },
     "metadata": {},
     "output_type": "display_data"
    },
    {
     "data": {
      "text/plain": [
       "<Figure size 1600x1600 with 0 Axes>"
      ]
     },
     "metadata": {},
     "output_type": "display_data"
    },
    {
     "data": {
      "text/plain": [
       "<Figure size 1600x1600 with 0 Axes>"
      ]
     },
     "metadata": {},
     "output_type": "display_data"
    },
    {
     "data": {
      "text/plain": [
       "<Figure size 1600x1600 with 0 Axes>"
      ]
     },
     "metadata": {},
     "output_type": "display_data"
    },
    {
     "data": {
      "text/plain": [
       "<Figure size 1600x1600 with 0 Axes>"
      ]
     },
     "metadata": {},
     "output_type": "display_data"
    },
    {
     "data": {
      "text/plain": [
       "<Figure size 1600x1600 with 0 Axes>"
      ]
     },
     "metadata": {},
     "output_type": "display_data"
    },
    {
     "data": {
      "text/plain": [
       "<Figure size 1600x1600 with 0 Axes>"
      ]
     },
     "metadata": {},
     "output_type": "display_data"
    },
    {
     "data": {
      "text/plain": [
       "<Figure size 1600x1600 with 0 Axes>"
      ]
     },
     "metadata": {},
     "output_type": "display_data"
    },
    {
     "data": {
      "text/plain": [
       "<Figure size 1600x1600 with 0 Axes>"
      ]
     },
     "metadata": {},
     "output_type": "display_data"
    },
    {
     "data": {
      "text/plain": [
       "<Figure size 1600x1600 with 0 Axes>"
      ]
     },
     "metadata": {},
     "output_type": "display_data"
    },
    {
     "data": {
      "text/plain": [
       "<Figure size 1600x1600 with 0 Axes>"
      ]
     },
     "metadata": {},
     "output_type": "display_data"
    }
   ],
   "source": [
    "counter = 1\n",
    "\n",
    "for col in view_5.drop('Open_dif', axis=1).columns:\n",
    "    plt.figure(figsize=(20, 20), dpi=80)\n",
    "    \n",
    "    plt.scatter(\n",
    "        view_5['Open_dif'][y_view_5 == 0], view_5[col][y_view_5 == 0],\n",
    "        s=50, c='lightgreen',\n",
    "        marker='s', edgecolor='black',\n",
    "        label='cluster 1'\n",
    "    )\n",
    "\n",
    "    plt.scatter(\n",
    "        view_5['Open_dif'][y_view_5 == 1], view_5[col][y_view_5 == 1],\n",
    "        s=50, c='orange',\n",
    "        marker='o', edgecolor='black',\n",
    "        label='cluster 2'\n",
    "    )\n",
    "\n",
    "    plt.scatter(\n",
    "        view_5['Open_dif'][y_view_5 == 2], view_5[col][y_view_5 == 2],\n",
    "        s=50, c='blue',\n",
    "        marker='o', edgecolor='black',\n",
    "        label='cluster 3'\n",
    "    )\n",
    "    \n",
    "    plt.title(\"{} x Price in a Year\".format(col))\n",
    "    plt.xlabel('Price')\n",
    "    plt.ylabel(col)\n",
    "    plt.legend(scatterpoints=1)\n",
    "    plt.grid()\n",
    "    \n",
    "    file_name = \"Unsurpevised_plots\\\\5_year_plt_{}.jpg\".format(counter)\n",
    "    file_path = os.path.join(current_directory_path, file_name)\n",
    "    plt.savefig(file_path)\n",
    "    plt.clf()\n",
    "    \n",
    "    counter += 1"
   ]
  },
  {
   "cell_type": "code",
   "execution_count": null,
   "id": "2581fa7d",
   "metadata": {},
   "outputs": [],
   "source": []
  }
 ],
 "metadata": {
  "kernelspec": {
   "display_name": "Python 3 (ipykernel)",
   "language": "python",
   "name": "python3"
  },
  "language_info": {
   "codemirror_mode": {
    "name": "ipython",
    "version": 3
   },
   "file_extension": ".py",
   "mimetype": "text/x-python",
   "name": "python",
   "nbconvert_exporter": "python",
   "pygments_lexer": "ipython3",
   "version": "3.9.6"
  }
 },
 "nbformat": 4,
 "nbformat_minor": 5
}
