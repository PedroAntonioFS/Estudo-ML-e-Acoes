{
 "cells": [
  {
   "cell_type": "code",
   "execution_count": 1,
   "id": "0ebac0e9",
   "metadata": {},
   "outputs": [],
   "source": [
    "import numpy as np\n",
    "import pandas as pd\n",
    "import tensorflow as tf\n",
    "from sklearn.model_selection import train_test_split"
   ]
  },
  {
   "cell_type": "code",
   "execution_count": 2,
   "id": "fb821316",
   "metadata": {},
   "outputs": [],
   "source": [
    "df = pd.read_csv('Datasets/transformation_result_1_year_SD.csv')"
   ]
  },
  {
   "cell_type": "markdown",
   "id": "ee15e9db",
   "metadata": {},
   "source": [
    "## 1. Y é a diferença entre a cotações das aberturas"
   ]
  },
  {
   "cell_type": "code",
   "execution_count": 3,
   "id": "a3d85cfe",
   "metadata": {},
   "outputs": [],
   "source": [
    "df['Open_dif'] = df['Open_1'] - df['Open_0']"
   ]
  },
  {
   "cell_type": "code",
   "execution_count": 4,
   "id": "f5203887",
   "metadata": {},
   "outputs": [],
   "source": [
    "df['Open_dif'] = df['Open_1'] - df['Open_0']\n",
    "df.drop(['Open_1', 'Open_0'], axis=1, inplace=True)"
   ]
  },
  {
   "cell_type": "code",
   "execution_count": 5,
   "id": "c5fb0a78",
   "metadata": {},
   "outputs": [],
   "source": [
    "x = df.drop('Open_dif', axis=1)\n",
    "y = df['Open_dif']"
   ]
  },
  {
   "cell_type": "markdown",
   "id": "83f83062",
   "metadata": {},
   "source": [
    "## 2. É utilizada uma rede neural densa"
   ]
  },
  {
   "cell_type": "code",
   "execution_count": 6,
   "id": "95b86169",
   "metadata": {},
   "outputs": [],
   "source": [
    "x_train, x_test, y_train, y_test = train_test_split(x, y)"
   ]
  },
  {
   "cell_type": "code",
   "execution_count": 7,
   "id": "502a4f76",
   "metadata": {},
   "outputs": [],
   "source": [
    "model = tf.keras.Sequential([\n",
    "    tf.keras.Input(shape=(x.shape[1],)),\n",
    "    tf.keras.layers.Dense(64, activation='relu'),\n",
    "    tf.keras.layers.Dense(32, activation='relu'),\n",
    "    tf.keras.layers.Dense(16, activation='relu'),\n",
    "    tf.keras.layers.Dense(32, activation='relu'),\n",
    "    tf.keras.layers.Dense(1, activation='softmax'),\n",
    "])"
   ]
  },
  {
   "cell_type": "code",
   "execution_count": 8,
   "id": "8a837b9e",
   "metadata": {},
   "outputs": [
    {
     "name": "stdout",
     "output_type": "stream",
     "text": [
      "Model: \"sequential\"\n",
      "_________________________________________________________________\n",
      " Layer (type)                Output Shape              Param #   \n",
      "=================================================================\n",
      " dense (Dense)               (None, 64)                1920      \n",
      "                                                                 \n",
      " dense_1 (Dense)             (None, 32)                2080      \n",
      "                                                                 \n",
      " dense_2 (Dense)             (None, 16)                528       \n",
      "                                                                 \n",
      " dense_3 (Dense)             (None, 32)                544       \n",
      "                                                                 \n",
      " dense_4 (Dense)             (None, 1)                 33        \n",
      "                                                                 \n",
      "=================================================================\n",
      "Total params: 5,105\n",
      "Trainable params: 5,105\n",
      "Non-trainable params: 0\n",
      "_________________________________________________________________\n"
     ]
    }
   ],
   "source": [
    "model.summary()"
   ]
  },
  {
   "cell_type": "code",
   "execution_count": 9,
   "id": "c92a209d",
   "metadata": {},
   "outputs": [],
   "source": [
    "model.compile(optimizer = 'Adam', loss='mean_absolute_percentage_error', metrics=['mean_absolute_percentage_error' ,'mean_squared_logarithmic_error', 'cosine_similarity'])"
   ]
  },
  {
   "cell_type": "code",
   "execution_count": 10,
   "id": "bdb8fb94",
   "metadata": {},
   "outputs": [
    {
     "name": "stdout",
     "output_type": "stream",
     "text": [
      "Epoch 1/50\n",
      "115/115 [==============================] - 1s 2ms/step - loss: 21804462.0000 - mean_absolute_percentage_error: 21804462.0000 - mean_squared_logarithmic_error: 3.8853 - cosine_similarity: 0.2516\n",
      "Epoch 2/50\n",
      "115/115 [==============================] - 0s 1ms/step - loss: 21804470.0000 - mean_absolute_percentage_error: 21804470.0000 - mean_squared_logarithmic_error: 3.8853 - cosine_similarity: 0.2516\n",
      "Epoch 3/50\n",
      "115/115 [==============================] - 0s 2ms/step - loss: 21804470.0000 - mean_absolute_percentage_error: 21804470.0000 - mean_squared_logarithmic_error: 3.8853 - cosine_similarity: 0.2516\n",
      "Epoch 4/50\n",
      "115/115 [==============================] - 0s 1ms/step - loss: 21804468.0000 - mean_absolute_percentage_error: 21804468.0000 - mean_squared_logarithmic_error: 3.8853 - cosine_similarity: 0.2516\n",
      "Epoch 5/50\n",
      "115/115 [==============================] - 0s 1ms/step - loss: 21804470.0000 - mean_absolute_percentage_error: 21804470.0000 - mean_squared_logarithmic_error: 3.8853 - cosine_similarity: 0.2516\n",
      "Epoch 6/50\n",
      "115/115 [==============================] - 0s 1ms/step - loss: 21804464.0000 - mean_absolute_percentage_error: 21804464.0000 - mean_squared_logarithmic_error: 3.8853 - cosine_similarity: 0.2516\n",
      "Epoch 7/50\n",
      "115/115 [==============================] - 0s 1ms/step - loss: 21804470.0000 - mean_absolute_percentage_error: 21804470.0000 - mean_squared_logarithmic_error: 3.8853 - cosine_similarity: 0.2516\n",
      "Epoch 8/50\n",
      "115/115 [==============================] - 0s 1ms/step - loss: 21804470.0000 - mean_absolute_percentage_error: 21804470.0000 - mean_squared_logarithmic_error: 3.8853 - cosine_similarity: 0.2516\n",
      "Epoch 9/50\n",
      "115/115 [==============================] - 0s 1ms/step - loss: 21804458.0000 - mean_absolute_percentage_error: 21804458.0000 - mean_squared_logarithmic_error: 3.8853 - cosine_similarity: 0.2516\n",
      "Epoch 10/50\n",
      "115/115 [==============================] - 0s 1ms/step - loss: 21804472.0000 - mean_absolute_percentage_error: 21804472.0000 - mean_squared_logarithmic_error: 3.8853 - cosine_similarity: 0.2516\n",
      "Epoch 11/50\n",
      "115/115 [==============================] - 0s 1ms/step - loss: 21804462.0000 - mean_absolute_percentage_error: 21804462.0000 - mean_squared_logarithmic_error: 3.8853 - cosine_similarity: 0.2516\n",
      "Epoch 12/50\n",
      "115/115 [==============================] - 0s 1ms/step - loss: 21804464.0000 - mean_absolute_percentage_error: 21804464.0000 - mean_squared_logarithmic_error: 3.8853 - cosine_similarity: 0.2516\n",
      "Epoch 13/50\n",
      "115/115 [==============================] - 0s 1ms/step - loss: 21804460.0000 - mean_absolute_percentage_error: 21804460.0000 - mean_squared_logarithmic_error: 3.8853 - cosine_similarity: 0.2516\n",
      "Epoch 14/50\n",
      "115/115 [==============================] - 0s 1ms/step - loss: 21804460.0000 - mean_absolute_percentage_error: 21804460.0000 - mean_squared_logarithmic_error: 3.8853 - cosine_similarity: 0.2516\n",
      "Epoch 15/50\n",
      "115/115 [==============================] - 0s 1ms/step - loss: 21804462.0000 - mean_absolute_percentage_error: 21804462.0000 - mean_squared_logarithmic_error: 3.8853 - cosine_similarity: 0.2516\n",
      "Epoch 16/50\n",
      "115/115 [==============================] - 0s 1ms/step - loss: 21804460.0000 - mean_absolute_percentage_error: 21804460.0000 - mean_squared_logarithmic_error: 3.8853 - cosine_similarity: 0.2516\n",
      "Epoch 17/50\n",
      "115/115 [==============================] - 0s 2ms/step - loss: 21804470.0000 - mean_absolute_percentage_error: 21804470.0000 - mean_squared_logarithmic_error: 3.8853 - cosine_similarity: 0.2516\n",
      "Epoch 18/50\n",
      "115/115 [==============================] - 0s 2ms/step - loss: 21804464.0000 - mean_absolute_percentage_error: 21804464.0000 - mean_squared_logarithmic_error: 3.8853 - cosine_similarity: 0.2516\n",
      "Epoch 19/50\n",
      "115/115 [==============================] - 0s 2ms/step - loss: 21804462.0000 - mean_absolute_percentage_error: 21804462.0000 - mean_squared_logarithmic_error: 3.8853 - cosine_similarity: 0.2516\n",
      "Epoch 20/50\n",
      "115/115 [==============================] - 0s 1ms/step - loss: 21804460.0000 - mean_absolute_percentage_error: 21804460.0000 - mean_squared_logarithmic_error: 3.8853 - cosine_similarity: 0.2516\n",
      "Epoch 21/50\n",
      "115/115 [==============================] - 0s 2ms/step - loss: 21804458.0000 - mean_absolute_percentage_error: 21804458.0000 - mean_squared_logarithmic_error: 3.8853 - cosine_similarity: 0.2516\n",
      "Epoch 22/50\n",
      "115/115 [==============================] - 0s 1ms/step - loss: 21804464.0000 - mean_absolute_percentage_error: 21804464.0000 - mean_squared_logarithmic_error: 3.8853 - cosine_similarity: 0.2516\n",
      "Epoch 23/50\n",
      "115/115 [==============================] - 0s 1ms/step - loss: 21804474.0000 - mean_absolute_percentage_error: 21804474.0000 - mean_squared_logarithmic_error: 3.8853 - cosine_similarity: 0.2516\n",
      "Epoch 24/50\n",
      "115/115 [==============================] - 0s 1ms/step - loss: 21804472.0000 - mean_absolute_percentage_error: 21804472.0000 - mean_squared_logarithmic_error: 3.8853 - cosine_similarity: 0.2516\n",
      "Epoch 25/50\n",
      "115/115 [==============================] - 0s 1ms/step - loss: 21804468.0000 - mean_absolute_percentage_error: 21804468.0000 - mean_squared_logarithmic_error: 3.8853 - cosine_similarity: 0.2516\n",
      "Epoch 26/50\n",
      "115/115 [==============================] - 0s 1ms/step - loss: 21804462.0000 - mean_absolute_percentage_error: 21804462.0000 - mean_squared_logarithmic_error: 3.8853 - cosine_similarity: 0.2516\n",
      "Epoch 27/50\n",
      "115/115 [==============================] - 0s 1ms/step - loss: 21804470.0000 - mean_absolute_percentage_error: 21804470.0000 - mean_squared_logarithmic_error: 3.8853 - cosine_similarity: 0.2516\n",
      "Epoch 28/50\n",
      "115/115 [==============================] - 0s 1ms/step - loss: 21804468.0000 - mean_absolute_percentage_error: 21804468.0000 - mean_squared_logarithmic_error: 3.8853 - cosine_similarity: 0.2516\n",
      "Epoch 29/50\n",
      "115/115 [==============================] - 0s 1ms/step - loss: 21804472.0000 - mean_absolute_percentage_error: 21804472.0000 - mean_squared_logarithmic_error: 3.8853 - cosine_similarity: 0.2516\n",
      "Epoch 30/50\n",
      "115/115 [==============================] - 0s 1ms/step - loss: 21804458.0000 - mean_absolute_percentage_error: 21804458.0000 - mean_squared_logarithmic_error: 3.8853 - cosine_similarity: 0.2516\n",
      "Epoch 31/50\n",
      "115/115 [==============================] - 0s 1ms/step - loss: 21804460.0000 - mean_absolute_percentage_error: 21804460.0000 - mean_squared_logarithmic_error: 3.8853 - cosine_similarity: 0.2516\n",
      "Epoch 32/50\n",
      "115/115 [==============================] - 0s 1ms/step - loss: 21804468.0000 - mean_absolute_percentage_error: 21804468.0000 - mean_squared_logarithmic_error: 3.8853 - cosine_similarity: 0.2516\n",
      "Epoch 33/50\n",
      "115/115 [==============================] - 0s 1ms/step - loss: 21804460.0000 - mean_absolute_percentage_error: 21804460.0000 - mean_squared_logarithmic_error: 3.8853 - cosine_similarity: 0.2516\n",
      "Epoch 34/50\n",
      "115/115 [==============================] - 0s 1ms/step - loss: 21804458.0000 - mean_absolute_percentage_error: 21804458.0000 - mean_squared_logarithmic_error: 3.8853 - cosine_similarity: 0.2516\n",
      "Epoch 35/50\n",
      "115/115 [==============================] - 0s 1ms/step - loss: 21804460.0000 - mean_absolute_percentage_error: 21804460.0000 - mean_squared_logarithmic_error: 3.8853 - cosine_similarity: 0.2516\n",
      "Epoch 36/50\n",
      "115/115 [==============================] - 0s 1ms/step - loss: 21804464.0000 - mean_absolute_percentage_error: 21804464.0000 - mean_squared_logarithmic_error: 3.8853 - cosine_similarity: 0.2516\n",
      "Epoch 37/50\n",
      "115/115 [==============================] - 0s 1ms/step - loss: 21804456.0000 - mean_absolute_percentage_error: 21804456.0000 - mean_squared_logarithmic_error: 3.8853 - cosine_similarity: 0.2516\n",
      "Epoch 38/50\n",
      "115/115 [==============================] - 0s 1ms/step - loss: 21804464.0000 - mean_absolute_percentage_error: 21804464.0000 - mean_squared_logarithmic_error: 3.8853 - cosine_similarity: 0.2516\n",
      "Epoch 39/50\n",
      "115/115 [==============================] - 0s 1ms/step - loss: 21804464.0000 - mean_absolute_percentage_error: 21804464.0000 - mean_squared_logarithmic_error: 3.8853 - cosine_similarity: 0.2516\n",
      "Epoch 40/50\n"
     ]
    },
    {
     "name": "stdout",
     "output_type": "stream",
     "text": [
      "115/115 [==============================] - 0s 1ms/step - loss: 21804470.0000 - mean_absolute_percentage_error: 21804470.0000 - mean_squared_logarithmic_error: 3.8853 - cosine_similarity: 0.2516\n",
      "Epoch 41/50\n",
      "115/115 [==============================] - 0s 1ms/step - loss: 21804462.0000 - mean_absolute_percentage_error: 21804462.0000 - mean_squared_logarithmic_error: 3.8853 - cosine_similarity: 0.2516\n",
      "Epoch 42/50\n",
      "115/115 [==============================] - 0s 1ms/step - loss: 21804468.0000 - mean_absolute_percentage_error: 21804468.0000 - mean_squared_logarithmic_error: 3.8853 - cosine_similarity: 0.2516\n",
      "Epoch 43/50\n",
      "115/115 [==============================] - 0s 1ms/step - loss: 21804468.0000 - mean_absolute_percentage_error: 21804468.0000 - mean_squared_logarithmic_error: 3.8853 - cosine_similarity: 0.2516\n",
      "Epoch 44/50\n",
      "115/115 [==============================] - 0s 1ms/step - loss: 21804464.0000 - mean_absolute_percentage_error: 21804464.0000 - mean_squared_logarithmic_error: 3.8853 - cosine_similarity: 0.2516\n",
      "Epoch 45/50\n",
      "115/115 [==============================] - 0s 1ms/step - loss: 21804470.0000 - mean_absolute_percentage_error: 21804470.0000 - mean_squared_logarithmic_error: 3.8853 - cosine_similarity: 0.2516\n",
      "Epoch 46/50\n",
      "115/115 [==============================] - 0s 1ms/step - loss: 21804460.0000 - mean_absolute_percentage_error: 21804460.0000 - mean_squared_logarithmic_error: 3.8853 - cosine_similarity: 0.2516\n",
      "Epoch 47/50\n",
      "115/115 [==============================] - 0s 1ms/step - loss: 21804468.0000 - mean_absolute_percentage_error: 21804468.0000 - mean_squared_logarithmic_error: 3.8853 - cosine_similarity: 0.2516\n",
      "Epoch 48/50\n",
      "115/115 [==============================] - 0s 1ms/step - loss: 21804470.0000 - mean_absolute_percentage_error: 21804470.0000 - mean_squared_logarithmic_error: 3.8853 - cosine_similarity: 0.2516\n",
      "Epoch 49/50\n",
      "115/115 [==============================] - 0s 1ms/step - loss: 21804468.0000 - mean_absolute_percentage_error: 21804468.0000 - mean_squared_logarithmic_error: 3.8853 - cosine_similarity: 0.2516\n",
      "Epoch 50/50\n",
      "115/115 [==============================] - 0s 1ms/step - loss: 21804464.0000 - mean_absolute_percentage_error: 21804464.0000 - mean_squared_logarithmic_error: 3.8853 - cosine_similarity: 0.2516\n"
     ]
    },
    {
     "data": {
      "text/plain": [
       "<keras.callbacks.History at 0x2452d59a4c0>"
      ]
     },
     "execution_count": 10,
     "metadata": {},
     "output_type": "execute_result"
    }
   ],
   "source": [
    "model.fit(x_train, y_train, epochs=50, batch_size=32, verbose=1)"
   ]
  },
  {
   "cell_type": "code",
   "execution_count": 11,
   "id": "dbc872a9",
   "metadata": {},
   "outputs": [
    {
     "name": "stdout",
     "output_type": "stream",
     "text": [
      "39/39 [==============================] - 0s 1ms/step - loss: 29411994.0000 - mean_absolute_percentage_error: 29411994.0000 - mean_squared_logarithmic_error: 3.9102 - cosine_similarity: 0.2745\n"
     ]
    }
   ],
   "source": [
    "results = model.evaluate(x_test, y_test)"
   ]
  },
  {
   "cell_type": "code",
   "execution_count": null,
   "id": "86a4eefa",
   "metadata": {},
   "outputs": [],
   "source": []
  }
 ],
 "metadata": {
  "kernelspec": {
   "display_name": "Python 3 (ipykernel)",
   "language": "python",
   "name": "python3"
  },
  "language_info": {
   "codemirror_mode": {
    "name": "ipython",
    "version": 3
   },
   "file_extension": ".py",
   "mimetype": "text/x-python",
   "name": "python",
   "nbconvert_exporter": "python",
   "pygments_lexer": "ipython3",
   "version": "3.9.6"
  }
 },
 "nbformat": 4,
 "nbformat_minor": 5
}
