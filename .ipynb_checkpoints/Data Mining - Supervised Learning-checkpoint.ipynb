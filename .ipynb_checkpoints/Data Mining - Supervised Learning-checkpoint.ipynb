{
 "cells": [
  {
   "cell_type": "code",
   "execution_count": 1,
   "id": "6e70aba5",
   "metadata": {},
   "outputs": [],
   "source": [
    "import numpy as np\n",
    "import pandas as pd\n",
    "from sklearn.model_selection import train_test_split, cross_val_score\n",
    "from sklearn.tree import DecisionTreeRegressor\n",
    "from sklearn.metrics import explained_variance_score\n",
    "from sklearn.feature_selection import RFECV\n",
    "from sklearn.svm import SVR\n",
    "from sklearn.tree import plot_tree, export_graphviz\n",
    "import matplotlib.pyplot as plt"
   ]
  },
  {
   "cell_type": "code",
   "execution_count": 2,
   "id": "9089eab6",
   "metadata": {},
   "outputs": [],
   "source": [
    "df = pd.read_csv('transformation_result_SD.csv')"
   ]
  },
  {
   "cell_type": "code",
   "execution_count": 3,
   "id": "f1534219",
   "metadata": {},
   "outputs": [],
   "source": [
    "x = df.drop('Open_1', axis=1)\n",
    "y = df['Open_1']"
   ]
  },
  {
   "cell_type": "code",
   "execution_count": 4,
   "id": "c1e80ab7",
   "metadata": {},
   "outputs": [],
   "source": [
    "rfecv = RFECV(DecisionTreeRegressor(max_depth=5), min_features_to_select=5, cv=5)"
   ]
  },
  {
   "cell_type": "code",
   "execution_count": 5,
   "id": "0353fd7f",
   "metadata": {},
   "outputs": [
    {
     "name": "stderr",
     "output_type": "stream",
     "text": [
      "c:\\users\\panto\\appdata\\local\\programs\\python\\python39\\lib\\site-packages\\sklearn\\base.py:441: UserWarning: X does not have valid feature names, but RFECV was fitted with feature names\n",
      "  warnings.warn(\n"
     ]
    }
   ],
   "source": [
    "x_r = rfecv.fit_transform(x,y)"
   ]
  },
  {
   "cell_type": "code",
   "execution_count": 6,
   "id": "4c456ef0",
   "metadata": {},
   "outputs": [],
   "source": [
    "cv_result = cross_val_score(DecisionTreeRegressor(max_depth=5), x_r, y, scoring='r2', cv=5)"
   ]
  },
  {
   "cell_type": "code",
   "execution_count": 7,
   "id": "1db46844",
   "metadata": {},
   "outputs": [
    {
     "data": {
      "text/plain": [
       "array([0.15004872, 0.19871041, 0.38435438, 0.64198895, 0.42514595])"
      ]
     },
     "execution_count": 7,
     "metadata": {},
     "output_type": "execute_result"
    }
   ],
   "source": [
    "cv_result"
   ]
  },
  {
   "cell_type": "code",
   "execution_count": 8,
   "id": "39738b83",
   "metadata": {},
   "outputs": [],
   "source": [
    "dfs = [pd.read_csv('transformation_result_1_year_SD.csv'),\n",
    "       pd.read_csv('transformation_result_2_year_SD.csv'),\n",
    "       pd.read_csv('transformation_result_3_year_SD.csv'),\n",
    "       pd.read_csv('transformation_result_4_year_SD.csv'),\n",
    "       pd.read_csv('transformation_result_5_year_SD.csv')]"
   ]
  },
  {
   "cell_type": "code",
   "execution_count": 9,
   "id": "ec0be3b5",
   "metadata": {},
   "outputs": [
    {
     "name": "stderr",
     "output_type": "stream",
     "text": [
      "c:\\users\\panto\\appdata\\local\\programs\\python\\python39\\lib\\site-packages\\sklearn\\base.py:441: UserWarning: X does not have valid feature names, but RFECV was fitted with feature names\n",
      "  warnings.warn(\n",
      "c:\\users\\panto\\appdata\\local\\programs\\python\\python39\\lib\\site-packages\\sklearn\\base.py:441: UserWarning: X does not have valid feature names, but RFECV was fitted with feature names\n",
      "  warnings.warn(\n",
      "c:\\users\\panto\\appdata\\local\\programs\\python\\python39\\lib\\site-packages\\sklearn\\base.py:441: UserWarning: X does not have valid feature names, but RFECV was fitted with feature names\n",
      "  warnings.warn(\n",
      "c:\\users\\panto\\appdata\\local\\programs\\python\\python39\\lib\\site-packages\\sklearn\\base.py:441: UserWarning: X does not have valid feature names, but RFECV was fitted with feature names\n",
      "  warnings.warn(\n",
      "c:\\users\\panto\\appdata\\local\\programs\\python\\python39\\lib\\site-packages\\sklearn\\base.py:441: UserWarning: X does not have valid feature names, but RFECV was fitted with feature names\n",
      "  warnings.warn(\n"
     ]
    }
   ],
   "source": [
    "cv_result = []\n",
    "for i in range(1,6):\n",
    "    x = dfs[i-1].drop('Open_1', axis=1)\n",
    "    y = dfs[i-1]['Open_1']\n",
    "    rfecv = RFECV(DecisionTreeRegressor(max_depth=5), min_features_to_select=5, cv=5)\n",
    "    \n",
    "    x_r = rfecv.fit_transform(x,y)\n",
    "    \n",
    "    cv_result.append(cross_val_score(DecisionTreeRegressor(max_depth=5), x_r, y, scoring='r2', cv=5))"
   ]
  },
  {
   "cell_type": "code",
   "execution_count": 10,
   "id": "25c63728",
   "metadata": {},
   "outputs": [
    {
     "data": {
      "text/plain": [
       "[array([0.46473714, 0.38618377, 0.52983073, 0.76636372, 0.76250046]),\n",
       " array([ 0.10527515, -0.16001584,  0.41109135,  0.57332761,  0.55296501]),\n",
       " array([ 0.01608658, -2.79316048,  0.49454042,  0.70107723,  0.45693165]),\n",
       " array([-5.02692852, -0.66863878,  0.50990571,  0.67490533,  0.48962033]),\n",
       " array([-3.05099585, -0.80428864, -0.01749425,  0.45791354,  0.46485612])]"
      ]
     },
     "execution_count": 10,
     "metadata": {},
     "output_type": "execute_result"
    }
   ],
   "source": [
    "cv_result"
   ]
  },
  {
   "cell_type": "code",
   "execution_count": null,
   "id": "8cf2908b",
   "metadata": {},
   "outputs": [],
   "source": []
  },
  {
   "cell_type": "code",
   "execution_count": null,
   "id": "49262931",
   "metadata": {},
   "outputs": [],
   "source": []
  }
 ],
 "metadata": {
  "kernelspec": {
   "display_name": "Python 3 (ipykernel)",
   "language": "python",
   "name": "python3"
  },
  "language_info": {
   "codemirror_mode": {
    "name": "ipython",
    "version": 3
   },
   "file_extension": ".py",
   "mimetype": "text/x-python",
   "name": "python",
   "nbconvert_exporter": "python",
   "pygments_lexer": "ipython3",
   "version": "3.9.6"
  }
 },
 "nbformat": 4,
 "nbformat_minor": 5
}
